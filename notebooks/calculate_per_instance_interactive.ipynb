{
 "cells": [
  {
   "cell_type": "code",
   "execution_count": 1,
   "metadata": {},
   "outputs": [
    {
     "name": "stdout",
     "output_type": "stream",
     "text": [
      "c:\\Users\\Francisco\\Downloads\\Input Data - Efficio Tech Task\n"
     ]
    },
    {
     "name": "stderr",
     "output_type": "stream",
     "text": [
      "c:\\Users\\Francisco\\Downloads\\Input Data - Efficio Tech Task\\.venv\\Lib\\site-packages\\IPython\\core\\magics\\osm.py:417: UserWarning: This is now an optional IPython functionality, setting dhist requires you to install the `pickleshare` library.\n",
      "  self.shell.db['dhist'] = compress_dhist(dhist)[-100:]\n"
     ]
    }
   ],
   "source": [
    "%cd ..\n"
   ]
  },
  {
   "cell_type": "code",
   "execution_count": 2,
   "metadata": {},
   "outputs": [],
   "source": [
    "import warnings\n",
    "import pandas as pd\n",
    "import ipywidgets as widgets"
   ]
  },
  {
   "cell_type": "code",
   "execution_count": 3,
   "metadata": {},
   "outputs": [
    {
     "data": {
      "text/html": [
       "<div>\n",
       "<style scoped>\n",
       "    .dataframe tbody tr th:only-of-type {\n",
       "        vertical-align: middle;\n",
       "    }\n",
       "\n",
       "    .dataframe tbody tr th {\n",
       "        vertical-align: top;\n",
       "    }\n",
       "\n",
       "    .dataframe thead th {\n",
       "        text-align: right;\n",
       "    }\n",
       "</style>\n",
       "<table border=\"1\" class=\"dataframe\">\n",
       "  <thead>\n",
       "    <tr style=\"text-align: right;\">\n",
       "      <th></th>\n",
       "      <th>usagetype</th>\n",
       "      <th>operation</th>\n",
       "      <th>currency</th>\n",
       "      <th>rate</th>\n",
       "      <th>od_rate</th>\n",
       "      <th>unit_savings</th>\n",
       "      <th>perc_savings</th>\n",
       "    </tr>\n",
       "  </thead>\n",
       "  <tbody>\n",
       "    <tr>\n",
       "      <th>10</th>\n",
       "      <td>EUC1-BoxUsage:c5.xlarge</td>\n",
       "      <td>RunInstances:0002</td>\n",
       "      <td>USD</td>\n",
       "      <td>0.2950</td>\n",
       "      <td>0.3780</td>\n",
       "      <td>0.0830</td>\n",
       "      <td>0.219577</td>\n",
       "    </tr>\n",
       "    <tr>\n",
       "      <th>16</th>\n",
       "      <td>BoxUsage:c5.xlarge</td>\n",
       "      <td>RunInstances</td>\n",
       "      <td>USD</td>\n",
       "      <td>0.0820</td>\n",
       "      <td>0.1700</td>\n",
       "      <td>0.0880</td>\n",
       "      <td>0.517647</td>\n",
       "    </tr>\n",
       "    <tr>\n",
       "      <th>20</th>\n",
       "      <td>BoxUsage:m5.xlarge</td>\n",
       "      <td>RunInstances</td>\n",
       "      <td>USD</td>\n",
       "      <td>0.0970</td>\n",
       "      <td>0.1920</td>\n",
       "      <td>0.0950</td>\n",
       "      <td>0.494792</td>\n",
       "    </tr>\n",
       "    <tr>\n",
       "      <th>25</th>\n",
       "      <td>BoxUsage:p3.2xlarge</td>\n",
       "      <td>RunInstances:0002</td>\n",
       "      <td>USD</td>\n",
       "      <td>2.1630</td>\n",
       "      <td>3.4280</td>\n",
       "      <td>1.2650</td>\n",
       "      <td>0.369020</td>\n",
       "    </tr>\n",
       "    <tr>\n",
       "      <th>26</th>\n",
       "      <td>BoxUsage:t2.micro</td>\n",
       "      <td>RunInstances:0002</td>\n",
       "      <td>USD</td>\n",
       "      <td>0.0104</td>\n",
       "      <td>0.0162</td>\n",
       "      <td>0.0058</td>\n",
       "      <td>0.358025</td>\n",
       "    </tr>\n",
       "    <tr>\n",
       "      <th>...</th>\n",
       "      <td>...</td>\n",
       "      <td>...</td>\n",
       "      <td>...</td>\n",
       "      <td>...</td>\n",
       "      <td>...</td>\n",
       "      <td>...</td>\n",
       "      <td>...</td>\n",
       "    </tr>\n",
       "    <tr>\n",
       "      <th>283</th>\n",
       "      <td>BoxUsage:m5a.large</td>\n",
       "      <td>RunInstances:0002</td>\n",
       "      <td>USD</td>\n",
       "      <td>0.1350</td>\n",
       "      <td>0.1780</td>\n",
       "      <td>0.0430</td>\n",
       "      <td>0.241573</td>\n",
       "    </tr>\n",
       "    <tr>\n",
       "      <th>285</th>\n",
       "      <td>BoxUsage:t3.large</td>\n",
       "      <td>RunInstances:0002</td>\n",
       "      <td>USD</td>\n",
       "      <td>0.0689</td>\n",
       "      <td>0.1108</td>\n",
       "      <td>0.0419</td>\n",
       "      <td>0.378159</td>\n",
       "    </tr>\n",
       "    <tr>\n",
       "      <th>293</th>\n",
       "      <td>USW1-BoxUsage:m5a.large</td>\n",
       "      <td>RunInstances:0002</td>\n",
       "      <td>USD</td>\n",
       "      <td>0.1510</td>\n",
       "      <td>0.1930</td>\n",
       "      <td>0.0420</td>\n",
       "      <td>0.217617</td>\n",
       "    </tr>\n",
       "    <tr>\n",
       "      <th>303</th>\n",
       "      <td>USW2-BoxUsage:r5a.large</td>\n",
       "      <td>RunInstances</td>\n",
       "      <td>USD</td>\n",
       "      <td>0.0590</td>\n",
       "      <td>0.1130</td>\n",
       "      <td>0.0540</td>\n",
       "      <td>0.477876</td>\n",
       "    </tr>\n",
       "    <tr>\n",
       "      <th>305</th>\n",
       "      <td>USW2-BoxUsage:m5a.large</td>\n",
       "      <td>RunInstances:0002</td>\n",
       "      <td>USD</td>\n",
       "      <td>0.1350</td>\n",
       "      <td>0.1780</td>\n",
       "      <td>0.0430</td>\n",
       "      <td>0.241573</td>\n",
       "    </tr>\n",
       "  </tbody>\n",
       "</table>\n",
       "<p>70 rows × 7 columns</p>\n",
       "</div>"
      ],
      "text/plain": [
       "                   usagetype          operation currency    rate  od_rate  \\\n",
       "10   EUC1-BoxUsage:c5.xlarge  RunInstances:0002      USD  0.2950   0.3780   \n",
       "16        BoxUsage:c5.xlarge       RunInstances      USD  0.0820   0.1700   \n",
       "20        BoxUsage:m5.xlarge       RunInstances      USD  0.0970   0.1920   \n",
       "25       BoxUsage:p3.2xlarge  RunInstances:0002      USD  2.1630   3.4280   \n",
       "26         BoxUsage:t2.micro  RunInstances:0002      USD  0.0104   0.0162   \n",
       "..                       ...                ...      ...     ...      ...   \n",
       "283       BoxUsage:m5a.large  RunInstances:0002      USD  0.1350   0.1780   \n",
       "285        BoxUsage:t3.large  RunInstances:0002      USD  0.0689   0.1108   \n",
       "293  USW1-BoxUsage:m5a.large  RunInstances:0002      USD  0.1510   0.1930   \n",
       "303  USW2-BoxUsage:r5a.large       RunInstances      USD  0.0590   0.1130   \n",
       "305  USW2-BoxUsage:m5a.large  RunInstances:0002      USD  0.1350   0.1780   \n",
       "\n",
       "     unit_savings  perc_savings  \n",
       "10         0.0830      0.219577  \n",
       "16         0.0880      0.517647  \n",
       "20         0.0950      0.494792  \n",
       "25         1.2650      0.369020  \n",
       "26         0.0058      0.358025  \n",
       "..            ...           ...  \n",
       "283        0.0430      0.241573  \n",
       "285        0.0419      0.378159  \n",
       "293        0.0420      0.217617  \n",
       "303        0.0540      0.477876  \n",
       "305        0.0430      0.241573  \n",
       "\n",
       "[70 rows x 7 columns]"
      ]
     },
     "execution_count": 3,
     "metadata": {},
     "output_type": "execute_result"
    }
   ],
   "source": [
    "saving_plans = pd.read_csv(\"src/data/savingsplanrates.csv\").drop(\n",
    "    [\n",
    "        \"purchaseoption\",\n",
    "        \"plantype\",\n",
    "        \"sku\",\n",
    "        \"ratecode\",\n",
    "        \"unit\",\n",
    "        \"contractlength\",\n",
    "        \"rate_type\",\n",
    "        \"discountedsku\",\n",
    "    ],\n",
    "    axis=1,\n",
    ")\n",
    "saving_plans = saving_plans.query(\n",
    "    \"servicecode=='AmazonEC2' and operation in ['RunInstances','RunInstances:0002', 'Hourly']\"\n",
    ").drop(\"servicecode\", axis=1)\n",
    "saving_plans"
   ]
  },
  {
   "cell_type": "code",
   "execution_count": 4,
   "metadata": {},
   "outputs": [],
   "source": [
    "curr = pd.read_csv(\"src/data/currfile.csv\", sep=\"|\").drop([\"lineitem/lineitemdescription\"], axis=1)\n",
    "\n",
    "\n",
    "curr.columns = [\n",
    "    \"operation\",\n",
    "    \"usagetype\",\n",
    "    \"timeinterval\",\n",
    "    \"productcode\",\n",
    "    \"usageamount\",\n",
    "    \"ondemandrate\",\n",
    "]"
   ]
  },
  {
   "cell_type": "code",
   "execution_count": null,
   "metadata": {},
   "outputs": [],
   "source": [
    "curr_ec2 = curr.query(\"operation in ['RunInstances','RunInstances:0002', 'Hourly']\")\n",
    "curr_ec2[[\"start_time\", \"end_time\"]] = curr_ec2.timeinterval.str.split(\"/\", expand=True)\n",
    "curr_ec2[\"start_time\"] = pd.to_datetime(curr_ec2.start_time, utc=True)\n",
    "curr_ec2[\"end_time\"] = pd.to_datetime(curr_ec2.end_time, utc=True)"
   ]
  },
  {
   "cell_type": "code",
   "execution_count": 6,
   "metadata": {},
   "outputs": [],
   "source": [
    "default_start_date = pd.to_datetime(\"2023-1-1\", utc=True)\n",
    "default_end_date = pd.to_datetime(\"2023-1-14\", utc=True)\n",
    "\n",
    "commitment_amount = widgets.IntSlider(value=3, min=0, max=50, step=1, description=\"commitment\")\n",
    "start_date_picker = widgets.DatetimePicker(description=\"Start Date\", value=default_start_date)\n",
    "end_date_picker = widgets.DatetimePicker(description=\"End Date\", value=default_end_date)"
   ]
  },
  {
   "cell_type": "code",
   "execution_count": 7,
   "metadata": {},
   "outputs": [],
   "source": [
    "from src.utils.utils import get_within_and_outside_budget_expenses\n",
    "\n",
    "warnings.filterwarnings(\"ignore\", category=DeprecationWarning)\n",
    "\n",
    "\n",
    "\n",
    "def render_choice(start_date_pck, end_date_pck, commitment_amount):\n",
    "    start_date = pd.to_datetime(start_date_pck, utc=True)\n",
    "    end_date = pd.to_datetime(end_date_pck, utc=True)\n",
    "    usage_df = curr_ec2.query(\"start_time >= @start_date and end_time <= @end_date\")\n",
    "\n",
    "    ec2_calculated_spenditure = (\n",
    "        usage_df.merge(saving_plans, on=[\"operation\", \"usagetype\"], how=\"left\")\n",
    "        .sort_values([\"end_time\", \"perc_savings\"], ascending=[True, False])\n",
    "        .assign(discount_price_cumulative=lambda df: (df.rate * df.usageamount).cumsum())\n",
    "        .assign(haswithin_dicount_budget=lambda df: df.discount_price_cumulative <= commitment_amount)\n",
    "    )\n",
    "\n",
    "    within_outside_budget = ec2_calculated_spenditure.groupby(\"start_time\").apply(\n",
    "        get_within_and_outside_budget_expenses, commitment_amount=commitment_amount\n",
    "    )\n",
    "\n",
    "    all_possible_hours = (end_date - start_date).total_seconds() / 3600\n",
    "    total_commited_budget_in_all_hours = commitment_amount * all_possible_hours\n",
    "    with_discount_spent = within_outside_budget.within_budget.sum()\n",
    "    without_discount_spent = within_outside_budget.outside_budget.sum()\n",
    "    equivalent_without_discount = within_outside_budget.price_without_discount.sum()\n",
    "\n",
    "    used_commited_budget_perc = with_discount_spent * 100 / total_commited_budget_in_all_hours\n",
    "    print(f\"Used Committed Budget: {used_commited_budget_perc:.0f}%\")\n",
    "    print(f\"Extra On-Demand Cost: ${without_discount_spent:.2f}\")\n",
    "    print(f\"Total Cost: ${total_commited_budget_in_all_hours + without_discount_spent:.2f}\")\n",
    "    print(f\"Cost Without Discount: ${equivalent_without_discount:.2f}\")\n",
    "    savings = 100 * (1 - (total_commited_budget_in_all_hours + without_discount_spent) / equivalent_without_discount)\n",
    "    print(f\"Savings: {savings:.1f}%\")"
   ]
  },
  {
   "cell_type": "code",
   "execution_count": 8,
   "metadata": {},
   "outputs": [
    {
     "data": {
      "application/vnd.jupyter.widget-view+json": {
       "model_id": "aca9c32030ff4c9c8805fc7362eb12a1",
       "version_major": 2,
       "version_minor": 0
      },
      "text/plain": [
       "interactive(children=(DatetimePicker(value=Timestamp('2023-01-01 00:00:00+0000', tz='UTC'), description='Start…"
      ]
     },
     "metadata": {},
     "output_type": "display_data"
    },
    {
     "data": {
      "text/plain": [
       "<function __main__.render_choice(start_date_pck, end_date_pck, commitment_amount)>"
      ]
     },
     "execution_count": 8,
     "metadata": {},
     "output_type": "execute_result"
    }
   ],
   "source": [
    "widgets.interact(\n",
    "    render_choice, start_date_pck=start_date_picker, end_date_pck=end_date_picker, commitment_amount=commitment_amount\n",
    ")"
   ]
  }
 ],
 "metadata": {
  "kernelspec": {
   "display_name": ".venv",
   "language": "python",
   "name": "python3"
  },
  "language_info": {
   "codemirror_mode": {
    "name": "ipython",
    "version": 3
   },
   "file_extension": ".py",
   "mimetype": "text/x-python",
   "name": "python",
   "nbconvert_exporter": "python",
   "pygments_lexer": "ipython3",
   "version": "3.12.6"
  }
 },
 "nbformat": 4,
 "nbformat_minor": 2
}
